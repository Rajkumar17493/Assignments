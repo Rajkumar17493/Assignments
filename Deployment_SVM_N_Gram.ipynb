{
 "cells": [
  {
   "cell_type": "markdown",
   "id": "28fb544e",
   "metadata": {},
   "source": [
    "### Import Libraries"
   ]
  },
  {
   "cell_type": "code",
   "execution_count": 1,
   "id": "8c1ff526",
   "metadata": {},
   "outputs": [],
   "source": [
    "#Import Required Python Libraries\n",
    "import pandas as pd\n",
    "import numpy as np\n",
    "import warnings\n",
    "warnings.filterwarnings(\"ignore\")\n",
    "import matplotlib.pyplot as plt\n",
    "from sklearn.feature_extraction.text import TfidfVectorizer\n",
    "from sklearn.svm import SVC\n",
    "import pickle\n",
    "from pickle import load\n",
    "import re\n",
    "import string\n",
    "import nltk\n",
    "from nltk import pos_tag\n",
    "from nltk.stem import WordNetLemmatizer\n",
    "from nltk.tokenize import WhitespaceTokenizer,word_tokenize\n",
    "import rake_nltk\n",
    "from rake_nltk import Rake\n",
    "import yake\n",
    "from yake import KeywordExtractor"
   ]
  },
  {
   "cell_type": "markdown",
   "id": "27f8f82e",
   "metadata": {},
   "source": [
    "### Import Data"
   ]
  },
  {
   "cell_type": "code",
   "execution_count": 2,
   "id": "791cbe9d",
   "metadata": {},
   "outputs": [],
   "source": [
    "#Loading Both SVM and TfidfVectorizer Intelligence for deployment\n",
    "svm_deploy=load(file=open('svm_deploy_ngram.pkl','rb'))\n",
    "tf_idf_deploy=load(file=open('tf_idf_deploy_ngram.pkl','rb'))"
   ]
  },
  {
   "cell_type": "code",
   "execution_count": 3,
   "id": "159f21f2",
   "metadata": {},
   "outputs": [],
   "source": [
    "lemmatizer = WordNetLemmatizer()\n",
    "w_tokenizer=WhitespaceTokenizer()\n",
    "stop_words = pd.read_csv('stop.txt',header=None,squeeze=True)"
   ]
  },
  {
   "cell_type": "code",
   "execution_count": 4,
   "id": "c51f9182",
   "metadata": {},
   "outputs": [],
   "source": [
    "input_review=\"I was looking for Pet friendly hotel near the vet hospital on ECR that I had to take my pet dog for treatment over 4 days. Green Meadows was reco to me by a good friend living in that area. I am very thankful to him for the reco. I find that Green Meadows offered true value for money covering various aspects of my stay including hygiene, environment, food, staff services and parking. I am so happy for having chosen to stay in Green Meadows and I am looking forward to be back sometime in near future, particularly now that my pet dog is bouncing back to his normal good health after the treatment.\""
   ]
  },
  {
   "cell_type": "code",
   "execution_count": 5,
   "id": "39a85976",
   "metadata": {},
   "outputs": [
    {
     "data": {
      "text/plain": [
       "'pet friendly hotel vet hospital ecr pet dog treatment days green meadows reco good friend living area thankful reco find green meadows offered true value money covering various aspects stay including hygiene environment food staff services parking happy chosen stay green meadows forward back future pet dog bouncing back normal good health treatment'"
      ]
     },
     "execution_count": 5,
     "metadata": {},
     "output_type": "execute_result"
    }
   ],
   "source": [
    "def text_clean(text):\n",
    "  text=text.lower()\n",
    "  text=re.sub(\"\\d+\",\"\",text) #Remove Numbers\n",
    "  text=re.sub(\"\\[.*?\\]\",\"\",text) #Remove text between square brackets\n",
    "  text=re.sub(\"\\S*https?:\\S*\",\"\",text) #Remove URLs\n",
    "  text=re.sub(\"\\S*www?.\\S*\",\"\",text) #Remove URLs\n",
    "  text=re.sub(\"[%s]\" % re.escape(string.punctuation),\"\",text) #Remove All Punctuations\n",
    "  text=re.sub(\"\\n\",\"\",text) #Remove newline space\n",
    "  text=re.sub(' +', \" \", text) #Remove Additional space\n",
    "  text=text.split() #Split the text into list of words, i.e. tokenization\n",
    "  text=[word for word in text if word not in list(stop_words)]\n",
    "  text=' '.join(text)\n",
    "  return text\n",
    "cleaned_text=text_clean(input_review)\n",
    "cleaned_text"
   ]
  },
  {
   "cell_type": "code",
   "execution_count": 6,
   "id": "b233fefc",
   "metadata": {},
   "outputs": [],
   "source": [
    "def lemmatize(txt):\n",
    "  list_review=[lemmatizer.lemmatize(word=word, pos=tag[0].lower()) if tag[0].lower() in ['a','r','n','v'] else word for word, tag in pos_tag(word_tokenize(txt))]\n",
    "  return (' '.join([x for x in list_review if x]))"
   ]
  },
  {
   "cell_type": "code",
   "execution_count": 7,
   "id": "f905533c",
   "metadata": {},
   "outputs": [
    {
     "data": {
      "text/plain": [
       "'pet friendly hotel vet hospital ecr pet dog treatment day green meadow reco good friend live area thankful reco find green meadow offer true value money cover various aspect stay include hygiene environment food staff service park happy choose stay green meadows forward back future pet dog bounce back normal good health treatment'"
      ]
     },
     "execution_count": 7,
     "metadata": {},
     "output_type": "execute_result"
    }
   ],
   "source": [
    "cleaned=lemmatize(cleaned_text)\n",
    "cleaned"
   ]
  },
  {
   "cell_type": "code",
   "execution_count": 8,
   "id": "418d7d58",
   "metadata": {},
   "outputs": [
    {
     "data": {
      "text/plain": [
       "2"
      ]
     },
     "execution_count": 8,
     "metadata": {},
     "output_type": "execute_result"
    }
   ],
   "source": [
    "X=tf_idf_deploy.transform([cleaned])\n",
    "svm_deploy.predict(X)[0]"
   ]
  },
  {
   "cell_type": "code",
   "execution_count": 9,
   "id": "e230a988",
   "metadata": {},
   "outputs": [
    {
     "data": {
      "image/png": "[encoded data removed]",
      "text/plain": [
       "<Figure size 720x504 with 1 Axes>"
      ]
     },
     "metadata": {},
     "output_type": "display_data"
    }
   ],
   "source": [
    "fig = plt.figure(figsize=(10,7))\n",
    "colors = (\"orange\", \"grey\", \"cyan\")\n",
    "wp = {'linewidth':2, 'edgecolor':\"black\"}\n",
    "predictions = pd.Series(np.ravel(svm_deploy.predict_proba(X)),index=['Negative', 'Neutral', 'Positive'])\n",
    "explode = (0.1,0.1,0.1)\n",
    "predictions.plot(kind='pie', autopct='%1.1f%%', shadow=True, colors = colors,\n",
    "         startangle=90, wedgeprops = wp, explode = explode, label='')\n",
    "plt.title('Review Prediction',size=15)\n",
    "plt.show()"
   ]
  },
  {
   "cell_type": "markdown",
   "id": "00f0b193",
   "metadata": {},
   "source": [
    "#### Keyword Extraction Through TFIDF"
   ]
  },
  {
   "cell_type": "code",
   "execution_count": 10,
   "id": "514fc231",
   "metadata": {},
   "outputs": [
    {
     "data": {
      "text/plain": [
       "['pet',\n",
       " 'meadow',\n",
       " 'pet dog',\n",
       " 'green',\n",
       " 'back',\n",
       " 'dog',\n",
       " 'treatment',\n",
       " 'money cover',\n",
       " 'park happy',\n",
       " 'stay green',\n",
       " 'happy choose',\n",
       " 'vet',\n",
       " 'good health',\n",
       " 'treatment day',\n",
       " 'pet friendly',\n",
       " 'service park',\n",
       " 'hygiene',\n",
       " 'friend live',\n",
       " 'bounce',\n",
       " 'stay include']"
      ]
     },
     "execution_count": 10,
     "metadata": {},
     "output_type": "execute_result"
    }
   ],
   "source": [
    "feature_index=X.nonzero()[1]\n",
    "feature_names=tf_idf_deploy.get_feature_names()\n",
    "dict_values=dict(zip([feature_names[i] for i in feature_index],[X[0,i] for i in feature_index]))\n",
    "[x[0] for x in sorted(dict_values.items(),key=lambda x: x[1],reverse=True)][:20]"
   ]
  },
  {
   "cell_type": "markdown",
   "id": "d81c6f8f",
   "metadata": {},
   "source": [
    "#### Keyword Extraction through POS tags - adj, propn, noun, adverb"
   ]
  },
  {
   "cell_type": "code",
   "execution_count": 11,
   "id": "6329ac85",
   "metadata": {},
   "outputs": [],
   "source": [
    "def positive_negative(txt):\n",
    "  \"\"\"\n",
    "  This function takes text string as input and get only words that are having below pos tags\n",
    "  ['JJ','JJR','JJS','NN','NNS','NNP','NNPS','RB','RBR','RBS','VB','VBD','VBG','VBN','VBP','VBZ']\n",
    "  \"\"\"\n",
    "  list_review=[wrd if tag in ['JJ','JJR','JJS','NN','NNS','NNP','NNPS','RB','RBR','RBS'] else '' for wrd, tag in pos_tag(w_tokenizer.tokenize(txt))]\n",
    "  return (' '.join([x for x in list_review if x]))"
   ]
  },
  {
   "cell_type": "code",
   "execution_count": 12,
   "id": "68d4c55a",
   "metadata": {},
   "outputs": [
    {
     "data": {
      "text/plain": [
       "['hospital',\n",
       " 'meadow',\n",
       " 'treatment',\n",
       " 'day',\n",
       " 'reco',\n",
       " 'pet',\n",
       " 'true',\n",
       " 'health',\n",
       " 'service',\n",
       " 'area',\n",
       " 'back',\n",
       " 'environment',\n",
       " 'offer',\n",
       " 'future',\n",
       " 'friendly',\n",
       " 'ecr',\n",
       " 'green',\n",
       " 'happy',\n",
       " 'food',\n",
       " 'bounce']"
      ]
     },
     "execution_count": 12,
     "metadata": {},
     "output_type": "execute_result"
    }
   ],
   "source": [
    "list(set(positive_negative(cleaned).split()))[:20]"
   ]
  },
  {
   "cell_type": "markdown",
   "id": "0bdfd381",
   "metadata": {},
   "source": [
    "#### Keyword Extraction Through Rake"
   ]
  },
  {
   "cell_type": "code",
   "execution_count": 14,
   "id": "dd0708c1",
   "metadata": {},
   "outputs": [],
   "source": [
    "r=Rake()\n",
    "r.extract_keywords_from_text(input_review)"
   ]
  },
  {
   "cell_type": "code",
   "execution_count": 15,
   "id": "a3065b27",
   "metadata": {},
   "outputs": [
    {
     "data": {
      "text/plain": [
       "['green meadows offered true value',\n",
       " 'money covering various aspects',\n",
       " 'pet friendly hotel near',\n",
       " 'normal good health',\n",
       " 'good friend living',\n",
       " 'stay including hygiene',\n",
       " 'green meadows',\n",
       " 'near future',\n",
       " 'pet dog',\n",
       " 'vet hospital',\n",
       " 'staff services',\n",
       " 'bouncing back',\n",
       " 'back sometime',\n",
       " '4 days',\n",
       " 'looking forward',\n",
       " 'stay',\n",
       " 'looking',\n",
       " 'treatment',\n",
       " 'thankful',\n",
       " 'take']"
      ]
     },
     "execution_count": 15,
     "metadata": {},
     "output_type": "execute_result"
    }
   ],
   "source": [
    "seen = set()\n",
    "result = []\n",
    "for item in r.get_ranked_phrases():\n",
    "    if item not in seen:\n",
    "        seen.add(item)\n",
    "        result.append(item)\n",
    "result[:20]"
   ]
  },
  {
   "cell_type": "markdown",
   "id": "edaeb7ac",
   "metadata": {},
   "source": [
    "#### Keyword Extraction Through Yake"
   ]
  },
  {
   "cell_type": "code",
   "execution_count": 16,
   "id": "0b743e5f",
   "metadata": {},
   "outputs": [
    {
     "data": {
      "text/plain": [
       "['ECR',\n",
       " 'Meadows',\n",
       " 'Green',\n",
       " 'Pet',\n",
       " 'days',\n",
       " 'friendly',\n",
       " 'hotel',\n",
       " 'vet',\n",
       " 'hospital',\n",
       " 'dog',\n",
       " 'reco',\n",
       " 'treatment',\n",
       " 'good',\n",
       " 'stay',\n",
       " 'back',\n",
       " 'area',\n",
       " 'friend',\n",
       " 'living',\n",
       " 'environment',\n",
       " 'food']"
      ]
     },
     "execution_count": 16,
     "metadata": {},
     "output_type": "execute_result"
    }
   ],
   "source": [
    "extract1=KeywordExtractor(n=1,top=20)\n",
    "[x[0] for x in extract1.extract_keywords(input_review)]"
   ]
  },
  {
   "cell_type": "code",
   "execution_count": 17,
   "id": "96c0932c",
   "metadata": {},
   "outputs": [
    {
     "data": {
      "text/plain": [
       "['Green Meadows',\n",
       " 'friendly hotel',\n",
       " 'vet hospital',\n",
       " 'Pet friendly',\n",
       " 'ECR',\n",
       " 'pet dog',\n",
       " 'Meadows',\n",
       " 'Green',\n",
       " 'Pet',\n",
       " 'days',\n",
       " 'Meadows offered',\n",
       " 'friendly',\n",
       " 'hotel',\n",
       " 'vet',\n",
       " 'hospital',\n",
       " 'dog',\n",
       " 'reco',\n",
       " 'treatment',\n",
       " 'friend living',\n",
       " 'good']"
      ]
     },
     "execution_count": 17,
     "metadata": {},
     "output_type": "execute_result"
    }
   ],
   "source": [
    "extract2=KeywordExtractor(n=2,top=20)\n",
    "[x[0] for x in extract2.extract_keywords(input_review)]"
   ]
  },
  {
   "cell_type": "code",
   "execution_count": 18,
   "id": "053746af",
   "metadata": {},
   "outputs": [
    {
     "data": {
      "text/plain": [
       "['Pet friendly hotel',\n",
       " 'hospital on ECR',\n",
       " 'Green Meadows',\n",
       " 'friendly hotel',\n",
       " 'vet hospital',\n",
       " 'Pet friendly',\n",
       " 'Green Meadows offered',\n",
       " 'ECR',\n",
       " 'pet dog',\n",
       " 'Meadows',\n",
       " 'Green',\n",
       " 'Pet',\n",
       " 'days',\n",
       " 'Meadows offered true',\n",
       " 'good friend living',\n",
       " 'Meadows offered',\n",
       " 'friendly',\n",
       " 'hotel',\n",
       " 'vet',\n",
       " 'hospital']"
      ]
     },
     "execution_count": 18,
     "metadata": {},
     "output_type": "execute_result"
    }
   ],
   "source": [
    "extract3=KeywordExtractor(n=3,top=20)\n",
    "[x[0] for x in extract3.extract_keywords(input_review)]"
   ]
  },
  {
   "cell_type": "code",
   "execution_count": null,
   "id": "351ac672",
   "metadata": {},
   "outputs": [],
   "source": []
  },
  {
   "cell_type": "code",
   "execution_count": null,
   "id": "ca883496",
   "metadata": {},
   "outputs": [],
   "source": []
  },
  {
   "cell_type": "code",
   "execution_count": null,
   "id": "7544326c",
   "metadata": {},
   "outputs": [],
   "source": []
  },
  {
   "cell_type": "code",
   "execution_count": null,
   "id": "e1f43e35",
   "metadata": {},
   "outputs": [],
   "source": []
  },
  {
   "cell_type": "code",
   "execution_count": null,
   "id": "efd7d51d",
   "metadata": {},
   "outputs": [],
   "source": []
  },
  {
   "cell_type": "code",
   "execution_count": null,
   "id": "8d4242b5",
   "metadata": {},
   "outputs": [],
   "source": []
  },
  {
   "cell_type": "code",
   "execution_count": null,
   "id": "d409c07b",
   "metadata": {},
   "outputs": [],
   "source": []
  },
  {
   "cell_type": "code",
   "execution_count": null,
   "id": "3fdd0f46",
   "metadata": {},
   "outputs": [],
   "source": []
  },
  {
   "cell_type": "code",
   "execution_count": null,
   "id": "e1cb605e",
   "metadata": {},
   "outputs": [],
   "source": []
  },
  {
   "cell_type": "code",
   "execution_count": null,
   "id": "8f967b9c",
   "metadata": {},
   "outputs": [],
   "source": []
  },
  {
   "cell_type": "code",
   "execution_count": null,
   "id": "86849499",
   "metadata": {},
   "outputs": [],
   "source": []
  },
  {
   "cell_type": "code",
   "execution_count": null,
   "id": "f4d99519",
   "metadata": {},
   "outputs": [],
   "source": []
  },
  {
   "cell_type": "code",
   "execution_count": null,
   "id": "d8260112",
   "metadata": {},
   "outputs": [],
   "source": []
  },
  {
   "cell_type": "code",
   "execution_count": null,
   "id": "dfd6304a",
   "metadata": {},
   "outputs": [],
   "source": []
  },
  {
   "cell_type": "code",
   "execution_count": null,
   "id": "59478481",
   "metadata": {},
   "outputs": [],
   "source": []
  },
  {
   "cell_type": "code",
   "execution_count": null,
   "id": "519c8418",
   "metadata": {},
   "outputs": [],
   "source": []
  },
  {
   "cell_type": "code",
   "execution_count": null,
   "id": "db371801",
   "metadata": {},
   "outputs": [],
   "source": []
  },
  {
   "cell_type": "code",
   "execution_count": null,
   "id": "31d717e1",
   "metadata": {},
   "outputs": [],
   "source": []
  },
  {
   "cell_type": "code",
   "execution_count": null,
   "id": "a554633a",
   "metadata": {},
   "outputs": [],
   "source": []
  }
 ],
 "metadata": {
  "kernelspec": {
   "display_name": "Python 3 (ipykernel)",
   "language": "python",
   "name": "python3"
  },
  "language_info": {
   "codemirror_mode": {
    "name": "ipython",
    "version": 3
   },
   "file_extension": ".py",
   "mimetype": "text/x-python",
   "name": "python",
   "nbconvert_exporter": "python",
   "pygments_lexer": "ipython3",
   "version": "3.9.7"
  }
 },
 "nbformat": 4,
 "nbformat_minor": 5
}
